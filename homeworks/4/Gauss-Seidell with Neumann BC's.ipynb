{
 "cells": [
  {
   "cell_type": "code",
   "execution_count": 2,
   "metadata": {
    "collapsed": true
   },
   "outputs": [],
   "source": [
    "import numpy as np\n",
    "import matplotlib.pyplot as plt\n",
    "%matplotlib inline"
   ]
  },
  {
   "cell_type": "code",
   "execution_count": 3,
   "metadata": {
    "collapsed": true
   },
   "outputs": [],
   "source": [
    "nx = 32\n",
    "ny = 32\n",
    "delta = 1.0/nx\n",
    "deltasq = delta**2"
   ]
  },
  {
   "cell_type": "code",
   "execution_count": 4,
   "metadata": {
    "collapsed": true
   },
   "outputs": [],
   "source": [
    "x, y = np.linspace(0.5*delta,1.0-0.5*delta,nx), np.linspace(0.5*delta, 1.0-0.5*delta,ny)\n",
    "X, Y = np.meshgrid(x,y)"
   ]
  },
  {
   "cell_type": "code",
   "execution_count": 5,
   "metadata": {
    "collapsed": false
   },
   "outputs": [],
   "source": [
    "Source = (X-0.5)*X**2*(1-X)**2*(4-12*Y+12*Y**2) + (-1 + 12*X - 30*X**2 + 20*X**3)*Y**2*(1-Y)**2\n",
    "Target = (X-0.5)*X**2*(1-X)**2*Y**2*(1-Y)**2"
   ]
  },
  {
   "cell_type": "code",
   "execution_count": 6,
   "metadata": {
    "collapsed": false
   },
   "outputs": [
    {
     "data": {
      "text/plain": [
       "<matplotlib.collections.QuadMesh at 0x7fc3337b9cc0>"
      ]
     },
     "execution_count": 6,
     "metadata": {},
     "output_type": "execute_result"
    },
    {
     "data": {
      "image/png": "[encoded data removed]",
      "text/plain": [
       "<matplotlib.figure.Figure at 0x7fc3584d1eb8>"
      ]
     },
     "metadata": {},
     "output_type": "display_data"
    }
   ],
   "source": [
    "plt.pcolormesh(X, Y, Target)"
   ]
  },
  {
   "cell_type": "code",
   "execution_count": 7,
   "metadata": {
    "collapsed": true
   },
   "outputs": [],
   "source": [
    "LapTarget = np.empty((nx,ny))\n",
    "LapTarget[1:nx-1,1:ny-1] = (Target[:nx-2,1:ny-1] + Target[2:,1:ny-1] + Target[1:nx-1,:ny-2] + Target[1:nx-1,2:] - 4*Target[1:nx-1,1:ny-1])/deltasq\n",
    "LapTarget[0,1:ny-1] = (Target[0,2:] + Target[0,:ny-2] + Target[1,1:ny-1] - 3*Target[0,1:ny-1])/deltasq\n",
    "LapTarget[-1,1:ny-1] = (Target[-1,2:] + Target[-1,:ny-2] + Target[-2,1:ny-1] - 3*Target[-1,1:ny-1])/deltasq\n",
    "LapTarget[1:nx-1,0] = (Target[2:,0] + Target[:nx-2,0] + Target[1:nx-1,1] - 3*Target[1:nx-1,0])/deltasq\n",
    "LapTarget[1:nx-1,-1] = (Target[2:,-1] + Target[:nx-2,-1] + Target[1:nx-1,-2] - 3*Target[1:nx-1,-1])/deltasq\n",
    "LapTarget[0,0] = (Target[0,1] + Target[1,0] - 2*Target[0,0])/deltasq\n",
    "LapTarget[-1,0] = (Target[-1,1] + Target[-2,0] - 2*Target[-1,0])/deltasq\n",
    "LapTarget[0,-1] = (Target[0,-2] + Target[1,-1] - 2*Target[0,-1])/deltasq\n",
    "LapTarget[-1,-1] = (Target[-1,-2] + Target[-2,-1] - 2*Target[-1,-1])/deltasq"
   ]
  },
  {
   "cell_type": "code",
   "execution_count": 8,
   "metadata": {
    "collapsed": false
   },
   "outputs": [
    {
     "data": {
      "text/plain": [
       "<matplotlib.collections.QuadMesh at 0x7fc333718940>"
      ]
     },
     "execution_count": 8,
     "metadata": {},
     "output_type": "execute_result"
    },
    {
     "data": {
      "image/png": "[encoded data removed]",
      "text/plain": [
       "<matplotlib.figure.Figure at 0x7fc33375d160>"
      ]
     },
     "metadata": {},
     "output_type": "display_data"
    }
   ],
   "source": [
    "plt.pcolormesh(X, Y, LapTarget)"
   ]
  },
  {
   "cell_type": "code",
   "execution_count": 9,
   "metadata": {
    "collapsed": true
   },
   "outputs": [],
   "source": [
    "fourth = 0.25\n",
    "third = 1.0/3.0\n",
    "half = 0.5"
   ]
  },
  {
   "cell_type": "code",
   "execution_count": 10,
   "metadata": {
    "collapsed": true
   },
   "outputs": [],
   "source": [
    "error_check_interval = 100"
   ]
  },
  {
   "cell_type": "code",
   "execution_count": 11,
   "metadata": {
    "collapsed": true
   },
   "outputs": [],
   "source": [
    "last_error = float('inf')"
   ]
  },
  {
   "cell_type": "code",
   "execution_count": 14,
   "metadata": {
    "collapsed": false
   },
   "outputs": [],
   "source": [
    "P = np.zeros((nx,ny))\n",
    "errors = []\n",
    "not_over = True\n",
    "iteration_number = 0\n",
    "while not_over:\n",
    "    # interior\n",
    "    for j in range(1,ny-1):\n",
    "        for i in range(1,nx-1):\n",
    "            P[i,j] = fourth*(P[i+1,j] + P[i-1,j] + P[i,j+1] + P[i,j-1] - deltasq*LapTarget[i,j])\n",
    "    # bottom\n",
    "    j = 0\n",
    "    for i in range(1,nx-1):\n",
    "        P[i,j] = third*(P[i+1,j] + P[i-1,j] + P[i,j+1] - deltasq*LapTarget[i,j])\n",
    "    # top\n",
    "    j = ny-1\n",
    "    for i in range(1,nx-1):\n",
    "        P[i,j] = third*(P[i+1,j] + P[i-1,j] + P[i,j-1] - deltasq*LapTarget[i,j])\n",
    "    # left\n",
    "    i = 0\n",
    "    for j in range(1,ny-1):\n",
    "        P[i,j] = third*(P[i+1,j] + P[i,j+1] + P[i,j-1] - deltasq*LapTarget[i,j])\n",
    "    # right\n",
    "    i = nx-1\n",
    "    for j in range(1,ny-1):\n",
    "        P[i,j] = third*(P[i-1,j] + P[i,j+1] + P[i,j-1] - deltasq*LapTarget[i,j])\n",
    "    # bottom left\n",
    "    i=0;j=0\n",
    "    P[i,j] = half*(P[i+1,j] + P[i,j+1] - deltasq*LapTarget[i,j])\n",
    "    # top left\n",
    "    i=0;j=ny-1\n",
    "    P[i,j] = half*(P[i+1,j] + P[i,j-1] - deltasq*LapTarget[i,j])\n",
    "    # top right\n",
    "    i=nx-1;ny-1\n",
    "    P[i,j] = half*(P[i-1,j] + P[i,j-1] - deltasq*LapTarget[i,j])\n",
    "    # bottom right\n",
    "    i=nx-1;j=0\n",
    "    P[i,j] = half*(P[i-1,j] + P[i,j+1] - deltasq*LapTarget[i,j])\n",
    "    \n",
    "    \n",
    "    iteration_number += 1\n",
    "    \n",
    "    if iteration_number % error_check_interval == 0:\n",
    "        error = np.linalg.norm(P-Target, ord=float('inf'))\n",
    "        errors.append(error)\n",
    "        if np.abs(last_error - error) < 1e-6:\n",
    "            not_over = False\n",
    "        if iteration_number > 100000:\n",
    "            not_over = False\n",
    "        last_error = error"
   ]
  },
  {
   "cell_type": "code",
   "execution_count": 15,
   "metadata": {
    "collapsed": false
   },
   "outputs": [
    {
     "data": {
      "text/plain": [
       "<matplotlib.collections.QuadMesh at 0x7fc3335d8198>"
      ]
     },
     "execution_count": 15,
     "metadata": {},
     "output_type": "execute_result"
    },
    {
     "data": {
      "image/png": "[encoded data removed]",
      "text/plain": [
       "<matplotlib.figure.Figure at 0x7fc33367d8d0>"
      ]
     },
     "metadata": {},
     "output_type": "display_data"
    }
   ],
   "source": [
    "plt.pcolormesh(X, Y, P)"
   ]
  },
  {
   "cell_type": "code",
   "execution_count": 16,
   "metadata": {
    "collapsed": false
   },
   "outputs": [
    {
     "data": {
      "text/plain": [
       "[<matplotlib.lines.Line2D at 0x7fc3335f56a0>]"
      ]
     },
     "execution_count": 16,
     "metadata": {},
     "output_type": "execute_result"
    },
    {
     "data": {
      "image/png": "[encoded data removed]",
      "text/plain": [
       "<matplotlib.figure.Figure at 0x7fc33367d470>"
      ]
     },
     "metadata": {},
     "output_type": "display_data"
    }
   ],
   "source": [
    "plt.semilogy(errors)"
   ]
  },
  {
   "cell_type": "code",
   "execution_count": 79,
   "metadata": {
    "collapsed": true
   },
   "outputs": [],
   "source": [
    "def gauss_seidel(LapTarget, P):\n",
    "    not_over = True\n",
    "    iteration_number = 0\n",
    "    last_error = float('inf')\n",
    "    while not_over:\n",
    "        # interior\n",
    "        for j in range(1,ny-1):\n",
    "            for i in range(1,nx-1):\n",
    "                P[i,j] = fourth*(P[i+1,j] + P[i-1,j] + P[i,j+1] + P[i,j-1] - deltasq*LapTarget[i,j])\n",
    "        # bottom\n",
    "        j = 0\n",
    "        for i in range(1,nx-1):\n",
    "            P[i,j] = third*(P[i+1,j] + P[i-1,j] + P[i,j+1] - deltasq*LapTarget[i,j])\n",
    "        # top\n",
    "        j = ny-1\n",
    "        for i in range(1,nx-1):\n",
    "            P[i,j] = third*(P[i+1,j] + P[i-1,j] + P[i,j-1] - deltasq*LapTarget[i,j])\n",
    "        # left\n",
    "        i = 0\n",
    "        for j in range(1,ny-1):\n",
    "            P[i,j] = third*(P[i+1,j] + P[i,j+1] + P[i,j-1] - deltasq*LapTarget[i,j])\n",
    "        # right\n",
    "        i = nx-1\n",
    "        for j in range(1,ny-1):\n",
    "            P[i,j] = third*(P[i-1,j] + P[i,j+1] + P[i,j-1] - deltasq*LapTarget[i,j])\n",
    "        # bottom left\n",
    "        i=0;j=0\n",
    "        P[i,j] = half*(P[i+1,j] + P[i,j+1] - deltasq*LapTarget[i,j])\n",
    "        # top left\n",
    "        i=0;j=ny-1\n",
    "        P[i,j] = half*(P[i+1,j] + P[i,j-1] - deltasq*LapTarget[i,j])\n",
    "        # top right\n",
    "        i=nx-1;ny-1\n",
    "        P[i,j] = half*(P[i-1,j] + P[i,j-1] - deltasq*LapTarget[i,j])\n",
    "        # bottom right\n",
    "        i=nx-1;j=0\n",
    "        P[i,j] = half*(P[i-1,j] + P[i,j+1] - deltasq*LapTarget[i,j])\n",
    "\n",
    "\n",
    "        iteration_number += 1\n",
    "\n",
    "        if iteration_number % error_check_interval == 0:\n",
    "            error = np.linalg.norm(P-Target, ord=float('inf'))\n",
    "            if np.abs(last_error - error) < 1e-6:\n",
    "                not_over = False\n",
    "            if iteration_number > 100000:\n",
    "                not_over = False\n",
    "            last_error = error\n",
    "    return P"
   ]
  },
  {
   "cell_type": "code",
   "execution_count": 18,
   "metadata": {
    "collapsed": false
   },
   "outputs": [
    {
     "name": "stdout",
     "output_type": "stream",
     "text": [
      "Convective dt: 0.005022940109224603\n",
      "Transport dt: 0.028125\n",
      "Chosen dt: 0.005022940109224603\n"
     ]
    }
   ],
   "source": [
    "nx = 32\n",
    "ny = 32\n",
    "dx = 1.0/nx\n",
    "dy = 1.0/ny\n",
    "Re = 100.0\n",
    "U = 1.0\n",
    "Re_d = Re*min(dx,dy)\n",
    "sigma = 0.9\n",
    "dt_convection = sigma/(1+2/Re_d)/(U/dx + U/dy + np.sqrt(1/dx**2+1/dy**2))\n",
    "dt_transport = sigma*dx/U\n",
    "dt = min(dt_convection, dt_transport)\n",
    "print(\"Convective dt: {}\\nTransport dt: {}\\nChosen dt: {}\".format(dt_convection, dt_transport, dt))"
   ]
  },
  {
   "cell_type": "code",
   "execution_count": 62,
   "metadata": {
    "collapsed": true
   },
   "outputs": [],
   "source": [
    "a1 = dt/dx\n",
    "a2 = dt/dy\n",
    "a3 = dt/(Re*dx*dx)\n",
    "xfactor = dx/dt\n",
    "yfactor = dy/dt"
   ]
  },
  {
   "cell_type": "code",
   "execution_count": 96,
   "metadata": {
    "collapsed": true
   },
   "outputs": [],
   "source": [
    "global u, up, v, vp, p, u_center, u_lbc, v_center, v_lbc, u_lap, v_lap, sourceterm\n",
    "u = np.zeros((nx+1,ny))\n",
    "up = np.zeros((nx+1,ny))\n",
    "v = np.zeros((nx,ny+1))\n",
    "vp = np.zeros((nx,ny+1))\n",
    "p = np.zeros((nx,ny))\n",
    "u_center = np.zeros((nx,ny))\n",
    "v_center = np.zeros((nx,ny))\n",
    "u_lbc = np.zeros((nx+1,ny+1))\n",
    "v_lbc = np.zeros((nx+1,ny+1))\n",
    "u_lap = np.zeros((nx-1,ny))\n",
    "v_lap = np.zeros((nx,ny-1))\n",
    "sourceterm = np.zeros((nx,ny))"
   ]
  },
  {
   "cell_type": "code",
   "execution_count": 82,
   "metadata": {
    "collapsed": false
   },
   "outputs": [],
   "source": [
    "def iteration():\n",
    "    global u, up, v, vp, p, u_center, u_lbc, v_center, v_lbc, sourceterm\n",
    "    u_center = 0.5*(u[1:,:] + u[:-1,:])\n",
    "    u_lbc[:,0] = 0.5*u[:,0]\n",
    "    u_lbc[:,1:-1] = 0.5*(u[:,1:] + u[:,:-1])\n",
    "    u_lbc[:,-1] = 0.5*(u[:,-1]+ U)\n",
    "    \n",
    "    v_center = 0.5*(v[:,1:] + v[:,:-1])\n",
    "    v_lbc[0,:] = 0.5*v[0,:]\n",
    "    v_lbc[1:-1,:] = 0.5*(v[1:,:] + v[:-1,:])\n",
    "    v_lbc[-1,:] = 0.5*v[-1,:]\n",
    "    \n",
    "    u_lap = u[2:,:] + u[:-2,:] - 4*u[1:-1,:]\n",
    "    u_lap[:,1:] += u[1:-1,:-1]\n",
    "    u_lap[:,:-1] += u[1:-1,1:]\n",
    "    u_lap[:,-1] += U\n",
    "    v_lap = v[:,2:] - 4*v[:,1:-1] + v[:,:-2]\n",
    "    v_lap[1:,:] += v[:-1,1:-1]\n",
    "    v_lap[:-1,:] += v[1:,1:-1]\n",
    "\n",
    "    up[1:-1,:] = u[1:-1,:] - a1*( u_center[1:,:]**2 - u_center[:-1,:]**2)+\\\n",
    "                  -a2*( u_lbc[1:-1,1:]*v_lbc[1:-1,1:] - u_lbc[1:-1,:-1]*v_lbc[1:-1,:-1])+\\\n",
    "                   a3*u_lap\n",
    "    vp[:,1:-1] = v[:,1:-1] - a1*( v_lbc[1:,1:-1]*u_lbc[1:,1:-1] - v_lbc[:-1,1:-1]*u_lbc[:-1,1:-1])+\\\n",
    "                  -a2*( v_center[:,1:]**2 - v_center[:,:-1]**2)+\\\n",
    "                   a3*v_lap\n",
    "            \n",
    "    sourceterm = xfactor*(u[1:,:] - u[:-1,:]) + yfactor*(v[:,1:]-v[:,:-1])\n",
    "    p = gauss_seidel(sourceterm, p)\n",
    "    u[1:-1,:] = up[1:-1,:] - a1*(p[1:,:] - p[:-1,:])\n",
    "    v[:,1:-1] = vp[:,1:-1] - a2*(p[:,1:] - p[:,:-1])"
   ]
  },
  {
   "cell_type": "code",
   "execution_count": null,
   "metadata": {
    "collapsed": false
   },
   "outputs": [
    {
     "name": "stdout",
     "output_type": "stream",
     "text": [
      "0\n",
      "20\n",
      "40\n"
     ]
    }
   ],
   "source": [
    "for i in range(1000):\n",
    "    iteration()\n",
    "    if i%20==0:\n",
    "        print(i)"
   ]
  },
  {
   "cell_type": "code",
   "execution_count": 95,
   "metadata": {
    "collapsed": false
   },
   "outputs": [
    {
     "data": {
      "text/plain": [
       "<matplotlib.colorbar.Colorbar at 0x7fc332e883c8>"
      ]
     },
     "execution_count": 95,
     "metadata": {},
     "output_type": "execute_result"
    },
    {
     "data": {
      "image/png": "[encoded data removed]",
      "text/plain": [
       "<matplotlib.figure.Figure at 0x7fc332eebba8>"
      ]
     },
     "metadata": {},
     "output_type": "display_data"
    }
   ],
   "source": [
    "a = plt.pcolormesh(Y, X, u_center)\n",
    "plt.colorbar(a)"
   ]
  },
  {
   "cell_type": "code",
   "execution_count": null,
   "metadata": {
    "collapsed": false
   },
   "outputs": [],
   "source": [
    "u_center.shape"
   ]
  },
  {
   "cell_type": "code",
   "execution_count": null,
   "metadata": {
    "collapsed": false
   },
   "outputs": [],
   "source": [
    "up.shape"
   ]
  },
  {
   "cell_type": "code",
   "execution_count": null,
   "metadata": {
    "collapsed": true
   },
   "outputs": [],
   "source": []
  }
 ],
 "metadata": {
  "anaconda-cloud": {},
  "kernelspec": {
   "display_name": "Python [default]",
   "language": "python",
   "name": "python3"
  },
  "language_info": {
   "codemirror_mode": {
    "name": "ipython",
    "version": 3
   },
   "file_extension": ".py",
   "mimetype": "text/x-python",
   "name": "python",
   "nbconvert_exporter": "python",
   "pygments_lexer": "ipython3",
   "version": "3.5.2"
  }
 },
 "nbformat": 4,
 "nbformat_minor": 1
}
