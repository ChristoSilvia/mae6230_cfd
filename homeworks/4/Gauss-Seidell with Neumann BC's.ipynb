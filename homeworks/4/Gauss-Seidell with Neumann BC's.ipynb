{
 "cells": [
  {
   "cell_type": "code",
   "execution_count": 2,
   "metadata": {
    "collapsed": true
   },
   "outputs": [],
   "source": [
    "import numpy as np\n",
    "import matplotlib.pyplot as plt\n",
    "%matplotlib inline"
   ]
  },
  {
   "cell_type": "code",
   "execution_count": 25,
   "metadata": {
    "collapsed": true
   },
   "outputs": [],
   "source": [
    "nx = 32\n",
    "ny = 32\n",
    "delta = 1.0/nx\n",
    "deltasq = delta**2"
   ]
  },
  {
   "cell_type": "code",
   "execution_count": 27,
   "metadata": {
    "collapsed": true
   },
   "outputs": [],
   "source": [
    "x, y = np.linspace(0.5*delta,1.0-0.5*delta,nx), np.linspace(0.5*delta, 1.0-0.5*delta,ny)\n",
    "X, Y = np.meshgrid(x,y)"
   ]
  },
  {
   "cell_type": "code",
   "execution_count": 28,
   "metadata": {
    "collapsed": false
   },
   "outputs": [],
   "source": [
    "Source = (X-0.5)*X**2*(1-X)**2*(4-12*Y+12*Y**2) + (-1 + 12*X - 30*X**2 + 20*X**3)*Y**2*(1-Y)**2\n",
    "Target = (X-0.5)*X**2*(1-X)**2*Y**2*(1-Y)**2"
   ]
  },
  {
   "cell_type": "code",
   "execution_count": 29,
   "metadata": {
    "collapsed": false
   },
   "outputs": [
    {
     "data": {
      "text/plain": [
       "<matplotlib.collections.QuadMesh at 0x7fd125d79780>"
      ]
     },
     "execution_count": 29,
     "metadata": {},
     "output_type": "execute_result"
    },
    {
     "data": {
      "image/png": "[encoded data removed]",
      "text/plain": [
       "<matplotlib.figure.Figure at 0x7fd125e26128>"
      ]
     },
     "metadata": {},
     "output_type": "display_data"
    }
   ],
   "source": [
    "plt.pcolormesh(X, Y, Target)"
   ]
  },
  {
   "cell_type": "code",
   "execution_count": 30,
   "metadata": {
    "collapsed": true
   },
   "outputs": [],
   "source": [
    "LapTarget = np.empty((nx,ny))\n",
    "LapTarget[1:nx-1,1:ny-1] = (Target[:nx-2,1:ny-1] + Target[2:,1:ny-1] + Target[1:nx-1,:ny-2] + Target[1:nx-1,2:] - 4*Target[1:nx-1,1:ny-1])/deltasq\n",
    "LapTarget[0,1:ny-1] = (Target[0,2:] + Target[0,:ny-2] + Target[1,1:ny-1] - 3*Target[0,1:ny-1])/deltasq\n",
    "LapTarget[-1,1:ny-1] = (Target[-1,2:] + Target[-1,:ny-2] + Target[-2,1:ny-1] - 3*Target[-1,1:ny-1])/deltasq\n",
    "LapTarget[1:nx-1,0] = (Target[2:,0] + Target[:nx-2,0] + Target[1:nx-1,1] - 3*Target[1:nx-1,0])/deltasq\n",
    "LapTarget[1:nx-1,-1] = (Target[2:,-1] + Target[:nx-2,-1] + Target[1:nx-1,-2] - 3*Target[1:nx-1,-1])/deltasq\n",
    "LapTarget[0,0] = (Target[0,1] + Target[1,0] - 2*Target[0,0])/deltasq\n",
    "LapTarget[-1,0] = (Target[-1,1] + Target[-2,0] - 2*Target[-1,0])/deltasq\n",
    "LapTarget[0,-1] = (Target[0,-2] + Target[1,-1] - 2*Target[0,-1])/deltasq\n",
    "LapTarget[-1,-1] = (Target[-1,-2] + Target[-2,-1] - 2*Target[-1,-1])/deltasq"
   ]
  },
  {
   "cell_type": "code",
   "execution_count": 31,
   "metadata": {
    "collapsed": false
   },
   "outputs": [
    {
     "data": {
      "text/plain": [
       "<matplotlib.collections.QuadMesh at 0x7fd125d53e48>"
      ]
     },
     "execution_count": 31,
     "metadata": {},
     "output_type": "execute_result"
    },
    {
     "data": {
      "image/png": "[encoded data removed]",
      "text/plain": [
       "<matplotlib.figure.Figure at 0x7fd125dd6240>"
      ]
     },
     "metadata": {},
     "output_type": "display_data"
    }
   ],
   "source": [
    "plt.pcolormesh(X, Y, LapTarget)"
   ]
  },
  {
   "cell_type": "code",
   "execution_count": 32,
   "metadata": {
    "collapsed": true
   },
   "outputs": [],
   "source": [
    "fourth = 0.25\n",
    "third = 1.0/3.0\n",
    "half = 0.5"
   ]
  },
  {
   "cell_type": "code",
   "execution_count": 35,
   "metadata": {
    "collapsed": true
   },
   "outputs": [],
   "source": [
    "error_check_interval = 100"
   ]
  },
  {
   "cell_type": "code",
   "execution_count": 46,
   "metadata": {
    "collapsed": true
   },
   "outputs": [],
   "source": [
    "last_error = float('inf')"
   ]
  },
  {
   "cell_type": "code",
   "execution_count": 55,
   "metadata": {
    "collapsed": false
   },
   "outputs": [
    {
     "name": "stdout",
     "output_type": "stream",
     "text": [
      "13200\n"
     ]
    }
   ],
   "source": [
    "P = np.zeros((nx,ny))\n",
    "errors = []\n",
    "not_over = True\n",
    "while not_over:\n",
    "    # interior\n",
    "    for j in range(1,ny-1):\n",
    "        for i in range(1,nx-1):\n",
    "            P[i,j] = fourth*(P[i+1,j] + P[i-1,j] + P[i,j+1] + P[i,j-1] - deltasq*LapTarget[i,j])\n",
    "    # bottom\n",
    "    j = 0\n",
    "    for i in range(1,nx-1):\n",
    "        P[i,j] = third*(P[i+1,j] + P[i-1,j] + P[i,j+1] - deltasq*LapTarget[i,j])\n",
    "    # top\n",
    "    j = ny-1\n",
    "    for i in range(1,nx-1):\n",
    "        P[i,j] = third*(P[i+1,j] + P[i-1,j] + P[i,j-1] - deltasq*LapTarget[i,j])\n",
    "    # left\n",
    "    i = 0\n",
    "    for j in range(1,ny-1):\n",
    "        P[i,j] = third*(P[i+1,j] + P[i,j+1] + P[i,j-1] - deltasq*LapTarget[i,j])\n",
    "    # right\n",
    "    i = nx-1\n",
    "    for j in range(1,ny-1):\n",
    "        P[i,j] = third*(P[i-1,j] + P[i,j+1] + P[i,j-1] - deltasq*LapTarget[i,j])\n",
    "    # bottom left\n",
    "    i=0;j=0\n",
    "    P[i,j] = half*(P[i+1,j] + P[i,j+1] - deltasq*LapTarget[i,j])\n",
    "    # top left\n",
    "    i=0;j=ny-1\n",
    "    P[i,j] = half*(P[i+1,j] + P[i,j-1] - deltasq*LapTarget[i,j])\n",
    "    # top right\n",
    "    i=nx-1;ny-1\n",
    "    P[i,j] = half*(P[i-1,j] + P[i,j-1] - deltasq*LapTarget[i,j])\n",
    "    # bottom right\n",
    "    i=nx-1;j=0\n",
    "    P[i,j] = half*(P[i-1,j] + P[i,j+1] - deltasq*LapTarget[i,j])\n",
    "    \n",
    "    \n",
    "    iteration_number += 1\n",
    "    \n",
    "    if iteration_number % error_check_interval == 0:\n",
    "        error = np.linalg.norm(P-Target, ord=float('inf'))\n",
    "        errors.append(error)\n",
    "        if np.abs(last_error - error) < 1e-6:\n",
    "            not_over = False\n",
    "        if iteration_number > 100000:\n",
    "            not_over = False\n",
    "        last_error = error\n",
    "print(iteration_number)"
   ]
  },
  {
   "cell_type": "code",
   "execution_count": 56,
   "metadata": {
    "collapsed": false
   },
   "outputs": [
    {
     "data": {
      "text/plain": [
       "<matplotlib.collections.QuadMesh at 0x7fd1254a6080>"
      ]
     },
     "execution_count": 56,
     "metadata": {},
     "output_type": "execute_result"
    },
    {
     "data": {
      "image/png": "[encoded data removed]",
      "text/plain": [
       "<matplotlib.figure.Figure at 0x7fd1258de5f8>"
      ]
     },
     "metadata": {},
     "output_type": "display_data"
    }
   ],
   "source": [
    "plt.pcolormesh(X, Y, P)"
   ]
  },
  {
   "cell_type": "code",
   "execution_count": 57,
   "metadata": {
    "collapsed": false
   },
   "outputs": [
    {
     "data": {
      "text/plain": [
       "[<matplotlib.lines.Line2D at 0x7fd125421e10>]"
      ]
     },
     "execution_count": 57,
     "metadata": {},
     "output_type": "execute_result"
    },
    {
     "data": {
      "image/png": "[encoded data removed]",
      "text/plain": [
       "<matplotlib.figure.Figure at 0x7fd12548fc50>"
      ]
     },
     "metadata": {},
     "output_type": "display_data"
    }
   ],
   "source": [
    "plt.semilogy(errors)"
   ]
  },
  {
   "cell_type": "code",
   "execution_count": 58,
   "metadata": {
    "collapsed": true
   },
   "outputs": [],
   "source": [
    "def gauss_seidel(LapTarget, P):\n",
    "    not_over = True\n",
    "    while not_over:\n",
    "        # interior\n",
    "        for j in range(1,ny-1):\n",
    "            for i in range(1,nx-1):\n",
    "                P[i,j] = fourth*(P[i+1,j] + P[i-1,j] + P[i,j+1] + P[i,j-1] - deltasq*LapTarget[i,j])\n",
    "        # bottom\n",
    "        j = 0\n",
    "        for i in range(1,nx-1):\n",
    "            P[i,j] = third*(P[i+1,j] + P[i-1,j] + P[i,j+1] - deltasq*LapTarget[i,j])\n",
    "        # top\n",
    "        j = ny-1\n",
    "        for i in range(1,nx-1):\n",
    "            P[i,j] = third*(P[i+1,j] + P[i-1,j] + P[i,j-1] - deltasq*LapTarget[i,j])\n",
    "        # left\n",
    "        i = 0\n",
    "        for j in range(1,ny-1):\n",
    "            P[i,j] = third*(P[i+1,j] + P[i,j+1] + P[i,j-1] - deltasq*LapTarget[i,j])\n",
    "        # right\n",
    "        i = nx-1\n",
    "        for j in range(1,ny-1):\n",
    "            P[i,j] = third*(P[i-1,j] + P[i,j+1] + P[i,j-1] - deltasq*LapTarget[i,j])\n",
    "        # bottom left\n",
    "        i=0;j=0\n",
    "        P[i,j] = half*(P[i+1,j] + P[i,j+1] - deltasq*LapTarget[i,j])\n",
    "        # top left\n",
    "        i=0;j=ny-1\n",
    "        P[i,j] = half*(P[i+1,j] + P[i,j-1] - deltasq*LapTarget[i,j])\n",
    "        # top right\n",
    "        i=nx-1;ny-1\n",
    "        P[i,j] = half*(P[i-1,j] + P[i,j-1] - deltasq*LapTarget[i,j])\n",
    "        # bottom right\n",
    "        i=nx-1;j=0\n",
    "        P[i,j] = half*(P[i-1,j] + P[i,j+1] - deltasq*LapTarget[i,j])\n",
    "\n",
    "\n",
    "        iteration_number += 1\n",
    "\n",
    "        if iteration_number % error_check_interval == 0:\n",
    "            error = np.linalg.norm(P-Target, ord=float('inf'))\n",
    "            if np.abs(last_error - error) < 1e-6:\n",
    "                not_over = False\n",
    "            if iteration_number > 100000:\n",
    "                not_over = False\n",
    "            last_error = error"
   ]
  },
  {
   "cell_type": "code",
   "execution_count": 61,
   "metadata": {
    "collapsed": false
   },
   "outputs": [
    {
     "name": "stdout",
     "output_type": "stream",
     "text": [
      "Convective dt: 0.005022940109224603\n",
      "Transport dt: 0.028125\n",
      "Chosen dt: 0.005022940109224603\n"
     ]
    }
   ],
   "source": [
    "nx = 32\n",
    "ny = 32\n",
    "dx = 1.0/nx\n",
    "dy = 1.0/ny\n",
    "Re = 100.0\n",
    "U = 1.0\n",
    "Re_d = Re*min(dx,dy)\n",
    "sigma = 0.9\n",
    "dt_convection = sigma/(1+2/Re_d)/(U/dx + U/dy + np.sqrt(1/dx**2+1/dy**2))\n",
    "dt_transport = sigma*dx/U\n",
    "dt = min(dt_convection, dt_transport)\n",
    "print(\"Convective dt: {}\\nTransport dt: {}\\nChosen dt: {}\".format(dt_convection, dt_transport, dt))"
   ]
  },
  {
   "cell_type": "code",
   "execution_count": 74,
   "metadata": {
    "collapsed": true
   },
   "outputs": [],
   "source": [
    "a1 = dt/dx\n",
    "a2 = dt/dy\n",
    "a3 = dt/(Re*dx*dx)"
   ]
  },
  {
   "cell_type": "code",
   "execution_count": 125,
   "metadata": {
    "collapsed": true
   },
   "outputs": [],
   "source": [
    "global u, up, v, vp, p, u_center, u_lbc, v_center, v_lbc, u_lap, v_lap\n",
    "u = np.zeros((nx+1,ny))\n",
    "up = np.zeros((nx+1,ny))\n",
    "v = np.zeros((nx,ny+1))\n",
    "vp = np.zeros((nx,ny+1))\n",
    "p = np.zeros((nx,ny))\n",
    "u_center = np.zeros((nx,ny))\n",
    "v_center = np.zeros((nx,ny))\n",
    "u_lbc = np.zeros((nx+1,ny+1))\n",
    "v_lbc = np.zeros((nx+1,ny+1))\n",
    "u_lap = np.zeros((nx-1,ny))\n",
    "v_lap = np.zeros((nx,ny-1))"
   ]
  },
  {
   "cell_type": "code",
   "execution_count": 139,
   "metadata": {
    "collapsed": false
   },
   "outputs": [],
   "source": [
    "def iteration():\n",
    "    global u, up, v, vp, p, u_center, u_lbc, v_center, v_lbc\n",
    "    u_center = 0.5*(u[1:,:] + u[:-1,:])\n",
    "    u_lbc[:,0] = 0.5*u[:,0]\n",
    "    u_lbc[:,1:-1] = 0.5*(u[:,1:] + u[:,:-1])\n",
    "    u_lbc[:,-1] = 0.5*(u[:,-1]+ U)\n",
    "    v_center = 0.5*(v[:,1:] + v[:,:-1])\n",
    "    v_lbc[0,:] = 0.5*v[0,:]\n",
    "    v_lbc = 0.5*(v[:,1:] + v[:,:-1])\n",
    "    v_lbc[-1,:] = 0.5*v[-1,:]\n",
    "    u_lap = u[2:,:] - 4*u[1:-1,:] + u[:-2,:]\n",
    "    u_lap[:,1:] += u[1:-1,:-1]\n",
    "    u_lap[:,:-1] += u[1:-1,1:]\n",
    "    u_lap[:,-1] += U\n",
    "    \n",
    "    print(up[1:-1,:].shape)\n",
    "    print(u[1:-1,:].shape)\n",
    "    print(u_center[1:,:].shape)\n",
    "    print(u_center[:-1,:].shape)\n",
    "    print(u_lbc[1:-1,1:].shape)\n",
    "    print(v_lbc[1:-1,1:].shape)\n",
    "    print(u_lap.shape)\n",
    "    up[1:-1,:] = u[1:-1,:] - a1*( u_center[1:,:]**2 - u_center[:-1,:]**2)+\\\n",
    "                  -a2*( u_lbc[1:-1,1:]*v_lbc[1:-1,1:] - u_lbc[1:-1,:-1]*v_lbc[1:-1,:-1])+\\\n",
    "                   a3*u_lap"
   ]
  },
  {
   "cell_type": "code",
   "execution_count": 140,
   "metadata": {
    "collapsed": false
   },
   "outputs": [
    {
     "ename": "ValueError",
     "evalue": "could not broadcast input array from shape (33) into shape (32)",
     "output_type": "error",
     "traceback": [
      "\u001b[0;31m---------------------------------------------------------------------------\u001b[0m",
      "\u001b[0;31mValueError\u001b[0m                                Traceback (most recent call last)",
      "\u001b[0;32m<ipython-input-140-0c94d0d849b9>\u001b[0m in \u001b[0;36m<module>\u001b[0;34m()\u001b[0m\n\u001b[0;32m----> 1\u001b[0;31m \u001b[0miteration\u001b[0m\u001b[0;34m(\u001b[0m\u001b[0;34m)\u001b[0m\u001b[0;34m\u001b[0m\u001b[0m\n\u001b[0m",
      "\u001b[0;32m<ipython-input-139-b152e77be7c6>\u001b[0m in \u001b[0;36miteration\u001b[0;34m()\u001b[0m\n\u001b[1;32m      6\u001b[0m     \u001b[0mu_lbc\u001b[0m\u001b[0;34m[\u001b[0m\u001b[0;34m:\u001b[0m\u001b[0;34m,\u001b[0m\u001b[0;34m-\u001b[0m\u001b[0;36m1\u001b[0m\u001b[0;34m]\u001b[0m \u001b[0;34m=\u001b[0m \u001b[0;36m0.5\u001b[0m\u001b[0;34m*\u001b[0m\u001b[0;34m(\u001b[0m\u001b[0mu\u001b[0m\u001b[0;34m[\u001b[0m\u001b[0;34m:\u001b[0m\u001b[0;34m,\u001b[0m\u001b[0;34m-\u001b[0m\u001b[0;36m1\u001b[0m\u001b[0;34m]\u001b[0m\u001b[0;34m+\u001b[0m \u001b[0mU\u001b[0m\u001b[0;34m)\u001b[0m\u001b[0;34m\u001b[0m\u001b[0m\n\u001b[1;32m      7\u001b[0m     \u001b[0mv_center\u001b[0m \u001b[0;34m=\u001b[0m \u001b[0;36m0.5\u001b[0m\u001b[0;34m*\u001b[0m\u001b[0;34m(\u001b[0m\u001b[0mv\u001b[0m\u001b[0;34m[\u001b[0m\u001b[0;34m:\u001b[0m\u001b[0;34m,\u001b[0m\u001b[0;36m1\u001b[0m\u001b[0;34m:\u001b[0m\u001b[0;34m]\u001b[0m \u001b[0;34m+\u001b[0m \u001b[0mv\u001b[0m\u001b[0;34m[\u001b[0m\u001b[0;34m:\u001b[0m\u001b[0;34m,\u001b[0m\u001b[0;34m:\u001b[0m\u001b[0;34m-\u001b[0m\u001b[0;36m1\u001b[0m\u001b[0;34m]\u001b[0m\u001b[0;34m)\u001b[0m\u001b[0;34m\u001b[0m\u001b[0m\n\u001b[0;32m----> 8\u001b[0;31m     \u001b[0mv_lbc\u001b[0m\u001b[0;34m[\u001b[0m\u001b[0;36m0\u001b[0m\u001b[0;34m,\u001b[0m\u001b[0;34m:\u001b[0m\u001b[0;34m]\u001b[0m \u001b[0;34m=\u001b[0m \u001b[0;36m0.5\u001b[0m\u001b[0;34m*\u001b[0m\u001b[0mv\u001b[0m\u001b[0;34m[\u001b[0m\u001b[0;36m0\u001b[0m\u001b[0;34m,\u001b[0m\u001b[0;34m:\u001b[0m\u001b[0;34m]\u001b[0m\u001b[0;34m\u001b[0m\u001b[0m\n\u001b[0m\u001b[1;32m      9\u001b[0m     \u001b[0mv_lbc\u001b[0m \u001b[0;34m=\u001b[0m \u001b[0;36m0.5\u001b[0m\u001b[0;34m*\u001b[0m\u001b[0;34m(\u001b[0m\u001b[0mv\u001b[0m\u001b[0;34m[\u001b[0m\u001b[0;34m:\u001b[0m\u001b[0;34m,\u001b[0m\u001b[0;36m1\u001b[0m\u001b[0;34m:\u001b[0m\u001b[0;34m]\u001b[0m \u001b[0;34m+\u001b[0m \u001b[0mv\u001b[0m\u001b[0;34m[\u001b[0m\u001b[0;34m:\u001b[0m\u001b[0;34m,\u001b[0m\u001b[0;34m:\u001b[0m\u001b[0;34m-\u001b[0m\u001b[0;36m1\u001b[0m\u001b[0;34m]\u001b[0m\u001b[0;34m)\u001b[0m\u001b[0;34m\u001b[0m\u001b[0m\n\u001b[1;32m     10\u001b[0m     \u001b[0mv_lbc\u001b[0m\u001b[0;34m[\u001b[0m\u001b[0;34m-\u001b[0m\u001b[0;36m1\u001b[0m\u001b[0;34m,\u001b[0m\u001b[0;34m:\u001b[0m\u001b[0;34m]\u001b[0m \u001b[0;34m=\u001b[0m \u001b[0;36m0.5\u001b[0m\u001b[0;34m*\u001b[0m\u001b[0mv\u001b[0m\u001b[0;34m[\u001b[0m\u001b[0;34m-\u001b[0m\u001b[0;36m1\u001b[0m\u001b[0;34m,\u001b[0m\u001b[0;34m:\u001b[0m\u001b[0;34m]\u001b[0m\u001b[0;34m\u001b[0m\u001b[0m\n",
      "\u001b[0;31mValueError\u001b[0m: could not broadcast input array from shape (33) into shape (32)"
     ]
    }
   ],
   "source": [
    "iteration()"
   ]
  },
  {
   "cell_type": "code",
   "execution_count": 84,
   "metadata": {
    "collapsed": false
   },
   "outputs": [
    {
     "data": {
      "text/plain": [
       "(32, 32)"
      ]
     },
     "execution_count": 84,
     "metadata": {},
     "output_type": "execute_result"
    }
   ],
   "source": [
    "u_center.shape"
   ]
  },
  {
   "cell_type": "code",
   "execution_count": 87,
   "metadata": {
    "collapsed": false
   },
   "outputs": [
    {
     "data": {
      "text/plain": [
       "(33, 32)"
      ]
     },
     "execution_count": 87,
     "metadata": {},
     "output_type": "execute_result"
    }
   ],
   "source": [
    "up.shape"
   ]
  },
  {
   "cell_type": "code",
   "execution_count": null,
   "metadata": {
    "collapsed": true
   },
   "outputs": [],
   "source": []
  }
 ],
 "metadata": {
  "anaconda-cloud": {},
  "kernelspec": {
   "display_name": "Python [default]",
   "language": "python",
   "name": "python3"
  },
  "language_info": {
   "codemirror_mode": {
    "name": "ipython",
    "version": 3
   },
   "file_extension": ".py",
   "mimetype": "text/x-python",
   "name": "python",
   "nbconvert_exporter": "python",
   "pygments_lexer": "ipython3",
   "version": "3.5.2"
  }
 },
 "nbformat": 4,
 "nbformat_minor": 1
}
